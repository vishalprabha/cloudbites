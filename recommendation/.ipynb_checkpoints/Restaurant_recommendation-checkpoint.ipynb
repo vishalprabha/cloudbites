{
 "cells": [
  {
   "cell_type": "code",
   "execution_count": 125,
   "id": "df51cd4e",
   "metadata": {},
   "outputs": [
    {
     "name": "stdout",
     "output_type": "stream",
     "text": [
      "Defaulting to user installation because normal site-packages is not writeable\n",
      "Requirement already satisfied: sklearn in /Users/viprabha/Library/Python/3.8/lib/python/site-packages (0.0)\n",
      "Requirement already satisfied: scikit-learn in /Users/viprabha/Library/Python/3.8/lib/python/site-packages (from sklearn) (1.0.2)\n",
      "Requirement already satisfied: scipy>=1.1.0 in /Users/viprabha/Library/Python/3.8/lib/python/site-packages (from scikit-learn->sklearn) (1.8.0)\n",
      "Requirement already satisfied: numpy>=1.14.6 in /Users/viprabha/Library/Python/3.8/lib/python/site-packages (from scikit-learn->sklearn) (1.21.2)\n",
      "Requirement already satisfied: threadpoolctl>=2.0.0 in /Users/viprabha/Library/Python/3.8/lib/python/site-packages (from scikit-learn->sklearn) (3.1.0)\n",
      "Requirement already satisfied: joblib>=0.11 in /Users/viprabha/Library/Python/3.8/lib/python/site-packages (from scikit-learn->sklearn) (1.1.0)\n",
      "\u001b[33mWARNING: You are using pip version 21.1.2; however, version 22.0.4 is available.\n",
      "You should consider upgrading via the '/Library/Developer/CommandLineTools/usr/bin/python3 -m pip install --upgrade pip' command.\u001b[0m\n"
     ]
    }
   ],
   "source": [
    "# installing missing dependencies\n",
    "import warnings\n",
    "warnings.filterwarnings('ignore')\n",
    "!pip3 install sklearn"
   ]
  },
  {
   "cell_type": "code",
   "execution_count": 126,
   "id": "354a5a30",
   "metadata": {},
   "outputs": [],
   "source": [
    "import os\n",
    "import re\n",
    "import string\n",
    "\n",
    "import numpy as np # linear algebra\n",
    "import pandas as pd # data processing, CSV file I/O (e.g. pd.read_csv)\n",
    "\n",
    "from nltk.tokenize import WordPunctTokenizer\n",
    "from nltk.corpus import stopwords\n",
    "from nltk.stem import SnowballStemmer\n",
    "\n",
    "from sklearn.feature_extraction.text import CountVectorizer\n",
    "import pickle"
   ]
  },
  {
   "cell_type": "code",
   "execution_count": 127,
   "id": "bda29745",
   "metadata": {},
   "outputs": [
    {
     "name": "stdout",
     "output_type": "stream",
     "text": [
      "Final Shape:  (52268, 14)\n"
     ]
    }
   ],
   "source": [
    "df_yelp_business = pd.read_json('/Users/viprabha/Downloads/yelp_dataset/yelp_academic_dataset_business.json', lines=True)\n",
    "df_yelp_business.fillna('NA', inplace=True)\n",
    "# we want to make sure we only work with restaurants -- nothing else\n",
    "df_yelp_business = df_yelp_business[df_yelp_business['categories'].str.contains('Restaurants')]\n",
    "print('Final Shape: ',df_yelp_business.shape)"
   ]
  },
  {
   "cell_type": "code",
   "execution_count": 128,
   "id": "7ce8c317",
   "metadata": {},
   "outputs": [],
   "source": [
    "df_yelp_review_iter = pd.read_json('/Users/viprabha/Downloads/yelp_dataset/yelp_academic_dataset_review.json', chunksize=100000, lines=True)"
   ]
  },
  {
   "cell_type": "code",
   "execution_count": 129,
   "id": "84bab54d",
   "metadata": {},
   "outputs": [],
   "source": [
    "df_yelp_review = pd.DataFrame()\n",
    "\n",
    "i=0\n",
    "for df in df_yelp_review_iter:\n",
    "    df = df[df['business_id'].isin(df_yelp_business['business_id'])]\n",
    "    df_yelp_review = pd.concat([df_yelp_review, df])\n"
   ]
  },
  {
   "cell_type": "code",
   "execution_count": 130,
   "id": "7f6d81d8",
   "metadata": {},
   "outputs": [
    {
     "name": "stdout",
     "output_type": "stream",
     "text": [
      "(4724471, 9)\n",
      "(1000000, 9)\n"
     ]
    }
   ],
   "source": [
    "print(df_yelp_review.shape)\n",
    "df_yelp_review = df_yelp_review[:1000000]\n",
    "print(df_yelp_review.shape)"
   ]
  },
  {
   "cell_type": "code",
   "execution_count": 131,
   "id": "de1a9137",
   "metadata": {},
   "outputs": [],
   "source": [
    "df_yelp_business = df_yelp_business[df_yelp_business['business_id'].isin(df_yelp_review['business_id'])]"
   ]
  },
  {
   "cell_type": "code",
   "execution_count": 132,
   "id": "c25c9e02",
   "metadata": {},
   "outputs": [
    {
     "name": "stdout",
     "output_type": "stream",
     "text": [
      "Final businesses shape:  (14204, 14)\n",
      "Final review shape:  (1000000, 9)\n"
     ]
    }
   ],
   "source": [
    "print('Final businesses shape: ', df_yelp_business.shape)\n",
    "print('Final review shape: ', df_yelp_review.shape)"
   ]
  },
  {
   "cell_type": "code",
   "execution_count": 133,
   "id": "ffa08a17",
   "metadata": {},
   "outputs": [],
   "source": [
    "def clean_text(text):\n",
    "    ## Remove puncuation\n",
    "    text = text.translate(string.punctuation)\n",
    "    \n",
    "    ## Convert words to lower case and split them\n",
    "    text = text.lower().split()\n",
    "    \n",
    "    ## Remove stop words\n",
    "    stops = set(stopwords.words(\"english\"))\n",
    "    text = [w for w in text if not w in stops and len(w) >= 3]\n",
    "    \n",
    "    text = \" \".join(text)\n",
    "    \n",
    "    # Clean the text\n",
    "    text = re.sub(r\"[^A-Za-z0-9^,!.\\/'+-=]\", \" \", text)\n",
    "    text = re.sub(r\"what's\", \"what is \", text)\n",
    "    text = re.sub(r\"\\'s\", \" \", text)\n",
    "    text = re.sub(r\"\\'ve\", \" have \", text)\n",
    "    text = re.sub(r\"n't\", \" not \", text)\n",
    "    text = re.sub(r\"i'm\", \"i am \", text)\n",
    "    text = re.sub(r\"\\'re\", \" are \", text)\n",
    "    text = re.sub(r\"\\'d\", \" would \", text)\n",
    "    text = re.sub(r\"\\'ll\", \" will \", text)\n",
    "    text = re.sub(r\",\", \" \", text)\n",
    "    text = re.sub(r\"\\.\", \" \", text)\n",
    "    text = re.sub(r\"!\", \" ! \", text)\n",
    "    text = re.sub(r\"\\/\", \" \", text)\n",
    "    text = re.sub(r\"\\^\", \" ^ \", text)\n",
    "    text = re.sub(r\"\\+\", \" + \", text)\n",
    "    text = re.sub(r\"\\-\", \" - \", text)\n",
    "    text = re.sub(r\"\\=\", \" = \", text)\n",
    "    text = re.sub(r\"'\", \" \", text)\n",
    "    text = re.sub(r\"(\\d+)(k)\", r\"\\g<1>000\", text)\n",
    "    text = re.sub(r\":\", \" : \", text)\n",
    "    text = re.sub(r\" e g \", \" eg \", text)\n",
    "    text = re.sub(r\" b g \", \" bg \", text)\n",
    "    text = re.sub(r\" u s \", \" american \", text)\n",
    "    text = re.sub(r\"\\0s\", \"0\", text)\n",
    "    text = re.sub(r\" 9 11 \", \"911\", text)\n",
    "    text = re.sub(r\"e - mail\", \"email\", text)\n",
    "    text = re.sub(r\"j k\", \"jk\", text)\n",
    "    text = re.sub(r\"\\s{2,}\", \" \", text)    \n",
    "    return text"
   ]
  },
  {
   "cell_type": "code",
   "execution_count": 134,
   "id": "098a99f9",
   "metadata": {},
   "outputs": [
    {
     "name": "stdout",
     "output_type": "stream",
     "text": [
      "CPU times: user 4min 27s, sys: 38.7 s, total: 5min 6s\n",
      "Wall time: 5min 9s\n"
     ]
    }
   ],
   "source": [
    "%%time\n",
    "df_yelp_review['text'] = df_yelp_review['text'].apply(clean_text)"
   ]
  },
  {
   "cell_type": "code",
   "execution_count": 135,
   "id": "f4f7f083",
   "metadata": {},
   "outputs": [],
   "source": [
    "vectorizer_reviews = CountVectorizer(min_df = .01,max_df = .99, tokenizer = WordPunctTokenizer().tokenize)\n",
    "vectorized_reviews = vectorizer_reviews.fit_transform(df_yelp_review['text'])"
   ]
  },
  {
   "cell_type": "code",
   "execution_count": 245,
   "id": "e7dd621e",
   "metadata": {},
   "outputs": [
    {
     "name": "stdout",
     "output_type": "stream",
     "text": [
      "<class 'sklearn.feature_extraction.text.CountVectorizer'>\n"
     ]
    }
   ],
   "source": [
    "print(type(vectorizer_reviews))"
   ]
  },
  {
   "cell_type": "code",
   "execution_count": 137,
   "id": "a41ef537",
   "metadata": {},
   "outputs": [
    {
     "data": {
      "text/plain": [
       "'! | + | - | 00 | 1 | 10 | 12 | 15 | 2 | 20 | 3 | 30 | 4 | 5 | 50 | 6 | 7 | 8 | : | ; | a | able | about | absolutely | accommodating | across | actually | add | added | addition | afternoon | again | ago | ahead | all | almost | along | already | also | although | always | am | amazing | ambiance | amount | and | another | anyone | anything | anyway | anywhere | appetizer | appetizers | are | area | around | arrived | as | ask | asked | ate | atmosphere | attention | attentive | authentic | available | average | avocado | away | awesome | awful | back | bacon | bad | baked | bar | barely | bartender | based | basically | bbq | be | beans | beautiful | beef | beer | beers | before | behind | believe | best | better | beyond | big | bill | birthday | bit | bite | black | bland'"
      ]
     },
     "execution_count": 137,
     "metadata": {},
     "output_type": "execute_result"
    }
   ],
   "source": [
    "' | '.join(vectorizer_reviews.get_feature_names()[:100]) # only the first 100"
   ]
  },
  {
   "cell_type": "code",
   "execution_count": 289,
   "id": "15db503e",
   "metadata": {},
   "outputs": [],
   "source": [
    "\n",
    "\n",
    "# vectorizer_categories = CountVectorizer(min_df = 1, max_df = 1., tokenizer = lambda x: x.split(', '))\n",
    "vectorizer_categories = CountVectorizer(min_df = 1, max_df = 1., tokenizer = WordPunctTokenizer().tokenize)\n",
    "\n",
    "vectorized_categories = vectorizer_categories.fit_transform(df_yelp_business['categories'])"
   ]
  },
  {
   "cell_type": "code",
   "execution_count": 290,
   "id": "59a595f1",
   "metadata": {},
   "outputs": [
    {
     "name": "stdout",
     "output_type": "stream",
     "text": [
      "<class 'sklearn.feature_extraction.text.CountVectorizer'>\n"
     ]
    }
   ],
   "source": [
    "print(type(vectorizer_categories))"
   ]
  },
  {
   "cell_type": "code",
   "execution_count": 291,
   "id": "93d47bf2",
   "metadata": {},
   "outputs": [
    {
     "data": {
      "text/plain": [
       "'active | activities | adoption | adult | advertising | afghan | african | air | airport | amateur | american | ammo | amusement | animal | antiques | appliances | aquariums | arabic | arcades | arenas | argentine | armenian | art | arts | asian | assistance | australian | austrian | auto | automotive | bagels | bakeries | bangladeshi | banks | bar | barbeque | barbers | bars | bartenders | basque | bath | battery | batting | beaches | beauty | bed | beer | belgian | beverage | bike | bikes | billiards | bistros | blues | boat | boating | body | books | bookstore | bookstores | bowling | bowls | brasseries | brazilian | breakfast | breweries | brewpubs | british | brunch | bubble | buddhist | buffets | building | buildings | burgers | burmese | bus | business | butcher | cabaret | cafe | cafes | cafeteria | cages | cajun | cake | cakes | calabrian | cambodian | canadian | candy | cannabis | cantonese | car | cards | care | caribbean | casinos | caterers | cemeteries'"
      ]
     },
     "execution_count": 291,
     "metadata": {},
     "output_type": "execute_result"
    }
   ],
   "source": [
    "' | '.join(vectorizer_categories.get_feature_names()[10:110]) # only the first 100"
   ]
  },
  {
   "cell_type": "code",
   "execution_count": 141,
   "id": "b80dfd2f",
   "metadata": {},
   "outputs": [
    {
     "name": "stdout",
     "output_type": "stream",
     "text": [
      "CPU times: user 4min 10s, sys: 18.3 s, total: 4min 29s\n",
      "Wall time: 4min 42s\n"
     ]
    }
   ],
   "source": [
    "%%time\n",
    "from scipy import sparse\n",
    "businessxreview = sparse.csr_matrix(pd.get_dummies(df_yelp_review['business_id']).values)"
   ]
  },
  {
   "cell_type": "code",
   "execution_count": 176,
   "id": "1fa6928a",
   "metadata": {},
   "outputs": [],
   "source": [
    "sparse.save_npz(\"businessxreview.npz\", businessxreview)\n",
    "businessxreview_read = sparse.load_npz(\"businessxreview.npz\")"
   ]
  },
  {
   "cell_type": "code",
   "execution_count": 292,
   "id": "3d9ec6aa",
   "metadata": {},
   "outputs": [],
   "source": [
    "\n",
    "# sparse.save_npz(\"vectorizer_reviews.npz\", vectorizer_reviews)\n",
    "# vectorizer_reviews_read = sparse.load_npz(\"vectorizer_reviews.npz\")\n",
    "\n",
    "# sparse.save_npz(\"vectorizer_categories.npz\", vectorizer_categories)\n",
    "# vectorizer_categories_read = sparse.load_npz(\"vectorizer_categories.npz\")\n",
    "\n",
    "with open('vectorizer_reviews.pkl', 'wb') as fout:\n",
    "    pickle.dump(vectorizer_reviews, fout)\n",
    "    \n",
    "\n",
    "with open('vectorizer_reviews.pkl', 'rb') as f:\n",
    "    vectorizer_reviews_read = pickle.load(f)\n",
    "    \n",
    "# import joblib\n",
    "# joblib.dump(vectorizer_categories, 'vectorizer_categories.joblib')\n",
    "\n",
    "# vectorizer_categories_read = joblib.load('vectorizer_categories.joblib')\n",
    "\n",
    "with open('vectorizer_categories.pkl', 'wb') as fout:\n",
    "    pickle.dump(vectorizer_categories,fout)\n",
    "    \n",
    "\n",
    "with open('vectorizer_categories.pkl', 'rb') as f:\n",
    "    vectorizer_categories_read = pickle.load(f)\n",
    "\n",
    "# vectorizer_reviews, vectorizer_categories\n",
    "# vectorizer_reviews_read, vectorizer_categories_read\n",
    "# Saving vectorized reviews \n",
    "with open('vectorizer.pkl', 'wb') as fout:\n",
    "    pickle.dump((vectorized_reviews, vectorized_categories), fout)\n",
    "    \n",
    "# Saving vectorized categories\n",
    "with open('vectorizer.pkl', 'rb') as f:\n",
    "    vectorized_reviews_read, vectorized_categories_read = pickle.load(f)\n"
   ]
  },
  {
   "cell_type": "code",
   "execution_count": 241,
   "id": "13e9b641",
   "metadata": {},
   "outputs": [
    {
     "name": "stdout",
     "output_type": "stream",
     "text": [
      "<class 'scipy.sparse._csr.csr_matrix'> <class 'scipy.sparse._csr.csr_matrix'>\n"
     ]
    }
   ],
   "source": [
    "print(type(vectorized_reviews), type(vectorized_reviews_read))"
   ]
  },
  {
   "cell_type": "code",
   "execution_count": 242,
   "id": "dfea8646",
   "metadata": {},
   "outputs": [],
   "source": [
    "# Business data pickle\n",
    "df_yelp_business.to_pickle(\"df_yelp_business.pkl\")\n",
    "df_yelp_business_read = pd.read_pickle(\"df_yelp_business.pkl\")\n",
    "# Review data pickle\n",
    "df_yelp_review.to_pickle(\"df_yelp_review.pkl\")\n",
    "df_yelp_review_read = pd.read_pickle(\"df_yelp_review.pkl\")"
   ]
  },
  {
   "cell_type": "code",
   "execution_count": 293,
   "id": "9feacec2",
   "metadata": {
    "scrolled": true
   },
   "outputs": [
    {
     "name": "stdout",
     "output_type": "stream",
     "text": [
      "restuarants x categories: \t (14204, 648)\n",
      "restuarants x reviews: \t\t (1000000, 14204)\n",
      "reviews x words: \t\t (1000000, 894)\n"
     ]
    }
   ],
   "source": [
    "\n",
    "print('restuarants x categories: \\t', vectorized_categories_read.shape) \n",
    "print('restuarants x reviews: \\t\\t' , businessxreview_read.shape) \n",
    "print('reviews x words: \\t\\t', vectorized_reviews_read.shape)"
   ]
  },
  {
   "cell_type": "code",
   "execution_count": 227,
   "id": "5d331e2c",
   "metadata": {},
   "outputs": [
    {
     "data": {
      "text/html": [
       "<div>\n",
       "<style scoped>\n",
       "    .dataframe tbody tr th:only-of-type {\n",
       "        vertical-align: middle;\n",
       "    }\n",
       "\n",
       "    .dataframe tbody tr th {\n",
       "        vertical-align: top;\n",
       "    }\n",
       "\n",
       "    .dataframe thead th {\n",
       "        text-align: right;\n",
       "    }\n",
       "</style>\n",
       "<table border=\"1\" class=\"dataframe\">\n",
       "  <thead>\n",
       "    <tr style=\"text-align: right;\">\n",
       "      <th></th>\n",
       "      <th>business_id</th>\n",
       "      <th>name</th>\n",
       "      <th>address</th>\n",
       "      <th>city</th>\n",
       "      <th>state</th>\n",
       "      <th>postal_code</th>\n",
       "      <th>latitude</th>\n",
       "      <th>longitude</th>\n",
       "      <th>stars</th>\n",
       "      <th>review_count</th>\n",
       "      <th>is_open</th>\n",
       "      <th>attributes</th>\n",
       "      <th>categories</th>\n",
       "      <th>hours</th>\n",
       "    </tr>\n",
       "  </thead>\n",
       "  <tbody>\n",
       "    <tr>\n",
       "      <th>646</th>\n",
       "      <td>A1lAqN3SOaBLoo6NqVcy4Q</td>\n",
       "      <td>McDonald's</td>\n",
       "      <td>11110 Causeway Blvd</td>\n",
       "      <td>Brandon</td>\n",
       "      <td>FL</td>\n",
       "      <td>33511</td>\n",
       "      <td>27.925332</td>\n",
       "      <td>-82.325395</td>\n",
       "      <td>2.0</td>\n",
       "      <td>6</td>\n",
       "      <td>1</td>\n",
       "      <td>{'RestaurantsGoodForGroups': 'True', 'Restaura...</td>\n",
       "      <td>Sandwiches, Burgers, Food, Fast Food, Restaura...</td>\n",
       "      <td>{'Monday': '0:0-0:0', 'Tuesday': '0:0-0:0', 'W...</td>\n",
       "    </tr>\n",
       "    <tr>\n",
       "      <th>41945</th>\n",
       "      <td>R3FDYMQBrMpkUquwE-eniQ</td>\n",
       "      <td>The Continental Restaurant and Martini Bar</td>\n",
       "      <td>138 Market St</td>\n",
       "      <td>Philadelphia</td>\n",
       "      <td>PA</td>\n",
       "      <td>19106</td>\n",
       "      <td>39.949693</td>\n",
       "      <td>-75.143623</td>\n",
       "      <td>4.0</td>\n",
       "      <td>638</td>\n",
       "      <td>0</td>\n",
       "      <td>{'NoiseLevel': 'u'average'', 'BusinessAcceptsC...</td>\n",
       "      <td>Restaurants, American (New), Lounges, Nightlif...</td>\n",
       "      <td>{'Monday': '16:0-21:0', 'Tuesday': '16:0-21:0'...</td>\n",
       "    </tr>\n",
       "    <tr>\n",
       "      <th>22259</th>\n",
       "      <td>tSmvpDRwqcXG2tXO9f61ZA</td>\n",
       "      <td>San Lucas Mexican Restaurant</td>\n",
       "      <td>2600 Federal St</td>\n",
       "      <td>Camden</td>\n",
       "      <td>NJ</td>\n",
       "      <td>08105</td>\n",
       "      <td>39.945942</td>\n",
       "      <td>-75.088741</td>\n",
       "      <td>3.5</td>\n",
       "      <td>38</td>\n",
       "      <td>1</td>\n",
       "      <td>{'BikeParking': 'True', 'HasTV': 'True', 'Rest...</td>\n",
       "      <td>Restaurants, Mexican</td>\n",
       "      <td>{'Monday': '10:0-22:0', 'Tuesday': '10:0-22:0'...</td>\n",
       "    </tr>\n",
       "    <tr>\n",
       "      <th>4501</th>\n",
       "      <td>JszJI2Ewenggj8zh1o3B-Q</td>\n",
       "      <td>Peggs Restaurant On the Boulevard</td>\n",
       "      <td>1001 Crossroads Pl</td>\n",
       "      <td>High Ridge</td>\n",
       "      <td>MO</td>\n",
       "      <td>63049</td>\n",
       "      <td>38.464304</td>\n",
       "      <td>-90.527598</td>\n",
       "      <td>3.0</td>\n",
       "      <td>57</td>\n",
       "      <td>1</td>\n",
       "      <td>{'RestaurantsTakeOut': 'True', 'RestaurantsGoo...</td>\n",
       "      <td>Italian, Restaurants, Pizza</td>\n",
       "      <td>{'Monday': '11:0-22:30', 'Tuesday': '11:0-22:3...</td>\n",
       "    </tr>\n",
       "    <tr>\n",
       "      <th>18778</th>\n",
       "      <td>O5LnTroDDouDbjdjufXJsg</td>\n",
       "      <td>El Agavero</td>\n",
       "      <td>7657 Hwy 70 S, Ste 104</td>\n",
       "      <td>Nashville</td>\n",
       "      <td>TN</td>\n",
       "      <td>37221</td>\n",
       "      <td>36.077126</td>\n",
       "      <td>-86.951461</td>\n",
       "      <td>4.0</td>\n",
       "      <td>112</td>\n",
       "      <td>1</td>\n",
       "      <td>{'RestaurantsPriceRange2': '1', 'Ambience': '{...</td>\n",
       "      <td>Mexican, Restaurants, American (New)</td>\n",
       "      <td>{'Monday': '11:0-21:30', 'Tuesday': '11:0-21:3...</td>\n",
       "    </tr>\n",
       "    <tr>\n",
       "      <th>25693</th>\n",
       "      <td>ZWh4bJk5Upc1MN4WH8Mm_g</td>\n",
       "      <td>Just Judy's</td>\n",
       "      <td>2210 E 54th St</td>\n",
       "      <td>Indianapolis</td>\n",
       "      <td>IN</td>\n",
       "      <td>46220</td>\n",
       "      <td>39.851989</td>\n",
       "      <td>-86.124365</td>\n",
       "      <td>3.0</td>\n",
       "      <td>5</td>\n",
       "      <td>0</td>\n",
       "      <td>{'HasTV': 'True', 'Ambience': '{'romantic': Fa...</td>\n",
       "      <td>Steakhouses, Bars, Nightlife, Restaurants</td>\n",
       "      <td>NA</td>\n",
       "    </tr>\n",
       "    <tr>\n",
       "      <th>43859</th>\n",
       "      <td>XYwx1tsEB3_G0tgS6l-0PQ</td>\n",
       "      <td>Amuse</td>\n",
       "      <td>1421 Arch St</td>\n",
       "      <td>Philadelphia</td>\n",
       "      <td>PA</td>\n",
       "      <td>19102</td>\n",
       "      <td>39.954825</td>\n",
       "      <td>-75.164064</td>\n",
       "      <td>3.5</td>\n",
       "      <td>154</td>\n",
       "      <td>1</td>\n",
       "      <td>{'RestaurantsTakeOut': 'True', 'Alcohol': 'u'f...</td>\n",
       "      <td>Food, Nightlife, French, Restaurants, Bars</td>\n",
       "      <td>{'Monday': '17:0-22:0', 'Tuesday': '17:0-22:0'...</td>\n",
       "    </tr>\n",
       "    <tr>\n",
       "      <th>33613</th>\n",
       "      <td>DIkXRqrDdW_86tSfdE1TWQ</td>\n",
       "      <td>Los Chilaquiles</td>\n",
       "      <td>559 Stewart's Ferry Pike</td>\n",
       "      <td>Nashville</td>\n",
       "      <td>TN</td>\n",
       "      <td>37214</td>\n",
       "      <td>36.158208</td>\n",
       "      <td>-86.635247</td>\n",
       "      <td>2.5</td>\n",
       "      <td>14</td>\n",
       "      <td>1</td>\n",
       "      <td>{'BusinessAcceptsCreditCards': 'True', 'Busine...</td>\n",
       "      <td>Mexican, Restaurants</td>\n",
       "      <td>{'Monday': '11:0-20:0', 'Tuesday': '11:0-20:0'...</td>\n",
       "    </tr>\n",
       "    <tr>\n",
       "      <th>25724</th>\n",
       "      <td>gwdREcEh7uXVVN4Vihgmlw</td>\n",
       "      <td>Joe Pesce</td>\n",
       "      <td>833 Haddon Ave</td>\n",
       "      <td>Collingswood</td>\n",
       "      <td>NJ</td>\n",
       "      <td>08108</td>\n",
       "      <td>39.915333</td>\n",
       "      <td>-75.065525</td>\n",
       "      <td>3.5</td>\n",
       "      <td>25</td>\n",
       "      <td>0</td>\n",
       "      <td>{'RestaurantsReservations': 'True', 'Restauran...</td>\n",
       "      <td>Seafood, Restaurants</td>\n",
       "      <td>{'Tuesday': '17:0-22:0', 'Wednesday': '17:0-22...</td>\n",
       "    </tr>\n",
       "    <tr>\n",
       "      <th>23596</th>\n",
       "      <td>2YowFoVtjOiZftrCldUyWA</td>\n",
       "      <td>Fit-Flavors</td>\n",
       "      <td>8566 Eager Rd</td>\n",
       "      <td>Saint Louis</td>\n",
       "      <td>MO</td>\n",
       "      <td>63144</td>\n",
       "      <td>38.628205</td>\n",
       "      <td>-90.340526</td>\n",
       "      <td>4.0</td>\n",
       "      <td>46</td>\n",
       "      <td>1</td>\n",
       "      <td>{'RestaurantsAttire': ''casual'', 'Restaurants...</td>\n",
       "      <td>Caterers, Event Planning &amp; Services, Dietitian...</td>\n",
       "      <td>{'Monday': '0:0-0:0', 'Tuesday': '10:0-19:0', ...</td>\n",
       "    </tr>\n",
       "  </tbody>\n",
       "</table>\n",
       "</div>"
      ],
      "text/plain": [
       "                  business_id                                        name  \\\n",
       "646    A1lAqN3SOaBLoo6NqVcy4Q                                  McDonald's   \n",
       "41945  R3FDYMQBrMpkUquwE-eniQ  The Continental Restaurant and Martini Bar   \n",
       "22259  tSmvpDRwqcXG2tXO9f61ZA                San Lucas Mexican Restaurant   \n",
       "4501   JszJI2Ewenggj8zh1o3B-Q           Peggs Restaurant On the Boulevard   \n",
       "18778  O5LnTroDDouDbjdjufXJsg                                  El Agavero   \n",
       "25693  ZWh4bJk5Upc1MN4WH8Mm_g                                 Just Judy's   \n",
       "43859  XYwx1tsEB3_G0tgS6l-0PQ                                       Amuse   \n",
       "33613  DIkXRqrDdW_86tSfdE1TWQ                             Los Chilaquiles   \n",
       "25724  gwdREcEh7uXVVN4Vihgmlw                                   Joe Pesce   \n",
       "23596  2YowFoVtjOiZftrCldUyWA                                 Fit-Flavors   \n",
       "\n",
       "                        address          city state postal_code   latitude  \\\n",
       "646         11110 Causeway Blvd       Brandon    FL       33511  27.925332   \n",
       "41945             138 Market St  Philadelphia    PA       19106  39.949693   \n",
       "22259           2600 Federal St        Camden    NJ       08105  39.945942   \n",
       "4501         1001 Crossroads Pl    High Ridge    MO       63049  38.464304   \n",
       "18778    7657 Hwy 70 S, Ste 104     Nashville    TN       37221  36.077126   \n",
       "25693            2210 E 54th St  Indianapolis    IN       46220  39.851989   \n",
       "43859              1421 Arch St  Philadelphia    PA       19102  39.954825   \n",
       "33613  559 Stewart's Ferry Pike     Nashville    TN       37214  36.158208   \n",
       "25724            833 Haddon Ave  Collingswood    NJ       08108  39.915333   \n",
       "23596             8566 Eager Rd   Saint Louis    MO       63144  38.628205   \n",
       "\n",
       "       longitude  stars  review_count  is_open  \\\n",
       "646   -82.325395    2.0             6        1   \n",
       "41945 -75.143623    4.0           638        0   \n",
       "22259 -75.088741    3.5            38        1   \n",
       "4501  -90.527598    3.0            57        1   \n",
       "18778 -86.951461    4.0           112        1   \n",
       "25693 -86.124365    3.0             5        0   \n",
       "43859 -75.164064    3.5           154        1   \n",
       "33613 -86.635247    2.5            14        1   \n",
       "25724 -75.065525    3.5            25        0   \n",
       "23596 -90.340526    4.0            46        1   \n",
       "\n",
       "                                              attributes  \\\n",
       "646    {'RestaurantsGoodForGroups': 'True', 'Restaura...   \n",
       "41945  {'NoiseLevel': 'u'average'', 'BusinessAcceptsC...   \n",
       "22259  {'BikeParking': 'True', 'HasTV': 'True', 'Rest...   \n",
       "4501   {'RestaurantsTakeOut': 'True', 'RestaurantsGoo...   \n",
       "18778  {'RestaurantsPriceRange2': '1', 'Ambience': '{...   \n",
       "25693  {'HasTV': 'True', 'Ambience': '{'romantic': Fa...   \n",
       "43859  {'RestaurantsTakeOut': 'True', 'Alcohol': 'u'f...   \n",
       "33613  {'BusinessAcceptsCreditCards': 'True', 'Busine...   \n",
       "25724  {'RestaurantsReservations': 'True', 'Restauran...   \n",
       "23596  {'RestaurantsAttire': ''casual'', 'Restaurants...   \n",
       "\n",
       "                                              categories  \\\n",
       "646    Sandwiches, Burgers, Food, Fast Food, Restaura...   \n",
       "41945  Restaurants, American (New), Lounges, Nightlif...   \n",
       "22259                               Restaurants, Mexican   \n",
       "4501                         Italian, Restaurants, Pizza   \n",
       "18778               Mexican, Restaurants, American (New)   \n",
       "25693          Steakhouses, Bars, Nightlife, Restaurants   \n",
       "43859         Food, Nightlife, French, Restaurants, Bars   \n",
       "33613                               Mexican, Restaurants   \n",
       "25724                               Seafood, Restaurants   \n",
       "23596  Caterers, Event Planning & Services, Dietitian...   \n",
       "\n",
       "                                                   hours  \n",
       "646    {'Monday': '0:0-0:0', 'Tuesday': '0:0-0:0', 'W...  \n",
       "41945  {'Monday': '16:0-21:0', 'Tuesday': '16:0-21:0'...  \n",
       "22259  {'Monday': '10:0-22:0', 'Tuesday': '10:0-22:0'...  \n",
       "4501   {'Monday': '11:0-22:30', 'Tuesday': '11:0-22:3...  \n",
       "18778  {'Monday': '11:0-21:30', 'Tuesday': '11:0-21:3...  \n",
       "25693                                                 NA  \n",
       "43859  {'Monday': '17:0-22:0', 'Tuesday': '17:0-22:0'...  \n",
       "33613  {'Monday': '11:0-20:0', 'Tuesday': '11:0-20:0'...  \n",
       "25724  {'Tuesday': '17:0-22:0', 'Wednesday': '17:0-22...  \n",
       "23596  {'Monday': '0:0-0:0', 'Tuesday': '10:0-19:0', ...  "
      ]
     },
     "execution_count": 227,
     "metadata": {},
     "output_type": "execute_result"
    }
   ],
   "source": [
    "# to choose a restaurant, just copy the business id and paste it in the next cell\n",
    "# you can always rerun the cell to choose another restuarant. \n",
    "df_yelp_business_read.sample(10)"
   ]
  },
  {
   "cell_type": "code",
   "execution_count": 192,
   "id": "1932df24",
   "metadata": {},
   "outputs": [],
   "source": [
    "business_choose = 'hcL7e9njsG0AboZpEVF5ww' "
   ]
  },
  {
   "cell_type": "code",
   "execution_count": 228,
   "id": "62ad6bc0",
   "metadata": {},
   "outputs": [],
   "source": [
    "new_reviews = df_yelp_review_read.loc[df_yelp_review_read['business_id'] == business_choose, 'text']"
   ]
  },
  {
   "cell_type": "code",
   "execution_count": 229,
   "id": "aab5a709",
   "metadata": {},
   "outputs": [
    {
     "name": "stdout",
     "output_type": "stream",
     "text": [
      "glad found place wings really good reasonable price recently delved calzone area menu real treat way\n",
      "second time ordered delivery here first time delivery took hour half gave 50 next delivery order fir\n",
      "ive ordered twice since close enough - i tried pizza instead ordered chicken parm sandwich grilled c\n",
      "best pizza spot far found area not best philly def one best area prices really good \n",
      "offered coupon restaurant com place figured try since fairly close way home work worst ordered chick\n",
      "got chicken cheesesteak fries soda to - go chicken cheesesteak loaded chunks fresh chicken well - se\n",
      "place amazing offers good pizza amazing customer service owner generous person city definitely 5 5 \n",
      "pizza places nearby definitely find better service quality price here called ahead ordered white ext\n",
      "pretty nice place pizza stromboli soooo good probably one best area prices reasonable owner super fr\n",
      "pizza shop around house pizzas good stromboli best thing menu \n",
      "love place lamb gyros good also get domenics salad can interior could use cleaning straightening alw\n",
      "clean place food horrible ordered two gyros fries lot wings feed family family like rock solid wings\n",
      "great pizza ! ! excellent wings ! outstanding customer service ! ! ! moved area dc philly born raise\n",
      "would give place cannot disappointed got wings dried size mushroom asked reimbursed wanted charge go\n",
      "shame closest delivery spot house makes convenient apparently mean they would great food bacon mega \n",
      "often steak sandwiches chicken steaks staff friendly kind prices reasonable chicken cheesesteaks exc\n",
      "pizza really good one best places around easily good cold reheated too cheese steaks also pretty goo\n",
      "buffalo wings pretty good spot order far northeast disappointing \n",
      "great pizza great prices ! ! ! everyone family loves pizza hard feat family 5 ! ! ! ! new place some\n",
      "always great customer service food phenomenal due recent bad customer service received fellow food e\n",
      "best pizza area love stromboli wings great pasta dishes good \n",
      "friday work lunch spot white pizza broccoli spinach die for quesadillas also popular delicious frien\n",
      "leave reviews usually warranted attention stopped got three slices pizza pulled shelf looked dusty l\n",
      "pizza cheesesteaks great i have better fries though i will update review try menu items issue delive\n"
     ]
    }
   ],
   "source": [
    "print('\\n'.join([r[:100] for r in new_reviews.tolist()])) # restaurant reviews"
   ]
  },
  {
   "cell_type": "code",
   "execution_count": 230,
   "id": "29fa0008",
   "metadata": {},
   "outputs": [],
   "source": [
    "new_categories = df_yelp_business_read.loc[df_yelp_business_read['business_id'] == business_choose, 'categories']"
   ]
  },
  {
   "cell_type": "code",
   "execution_count": 231,
   "id": "5df82b50",
   "metadata": {},
   "outputs": [
    {
     "data": {
      "text/plain": [
       "['Restaurants, Pizza']"
      ]
     },
     "execution_count": 231,
     "metadata": {},
     "output_type": "execute_result"
    }
   ],
   "source": [
    "new_categories.tolist()"
   ]
  },
  {
   "cell_type": "code",
   "execution_count": 295,
   "id": "fa30910e",
   "metadata": {},
   "outputs": [],
   "source": [
    "from scipy.spatial.distance import cdist\n",
    "# find most similar reviews\n",
    "# dists1 = cdist(vectorizer_reviews.transform(new_reviews).todense().mean(axis=0), \n",
    "#               vectorized_reviews.T.dot(businessxreview).T.todense(), \n",
    "#                metric='correlation')\n",
    "# # find most similar categories\n",
    "# dists2 = cdist(vectorizer_categories.transform(new_categories).todense().mean(axis=0), \n",
    "#               vectorized_categories.todense(), \n",
    "#                metric='correlation')\n",
    "\n",
    "dists1 = cdist(vectorizer_reviews_read.transform(new_reviews).todense().mean(axis=0), \n",
    "              vectorized_reviews.T.dot(businessxreview_read).T.todense(), \n",
    "               metric='correlation')\n",
    "# find most similar categories\n",
    "dists2 = cdist(vectorizer_categories_read.transform(new_categories).todense().mean(axis=0), \n",
    "              vectorized_categories_read.todense(), \n",
    "               metric='correlation')\n"
   ]
  },
  {
   "cell_type": "code",
   "execution_count": 296,
   "id": "ccb1c835",
   "metadata": {},
   "outputs": [],
   "source": [
    "# combine the two vectors in one matrix\n",
    "dists_together = np.vstack([dists1.ravel(), dists2.ravel()]).T"
   ]
  },
  {
   "cell_type": "code",
   "execution_count": 297,
   "id": "aa0f843b",
   "metadata": {},
   "outputs": [
    {
     "data": {
      "text/plain": [
       "array([[0.51163994, 0.4364379 ],\n",
       "       [0.47852485, 0.44078244],\n",
       "       [0.52193259, 0.41699354],\n",
       "       ...,\n",
       "       [0.41436213, 0.41593917],\n",
       "       [0.56367904, 0.36134078],\n",
       "       [0.633277  , 0.33488372]])"
      ]
     },
     "execution_count": 297,
     "metadata": {},
     "output_type": "execute_result"
    }
   ],
   "source": [
    "dists_together"
   ]
  },
  {
   "cell_type": "code",
   "execution_count": 298,
   "id": "d7b81c2c",
   "metadata": {},
   "outputs": [],
   "source": [
    "# this is a key cell: how are we going to prioritize ?\n",
    "dists = dists_together.mean(axis=1)"
   ]
  },
  {
   "cell_type": "code",
   "execution_count": 167,
   "id": "9300dfa2",
   "metadata": {},
   "outputs": [
    {
     "data": {
      "text/plain": [
       "array([0.59965378, 0.59711491, 0.62974539, ..., 0.59213069, 0.60673653,\n",
       "       0.56758368])"
      ]
     },
     "execution_count": 167,
     "metadata": {},
     "output_type": "execute_result"
    }
   ],
   "source": [
    "dists"
   ]
  },
  {
   "cell_type": "code",
   "execution_count": 168,
   "id": "c2b1a635",
   "metadata": {},
   "outputs": [],
   "source": [
    "# select the closest 10\n",
    "closest = dists.argsort().ravel()[:10]"
   ]
  },
  {
   "cell_type": "code",
   "execution_count": 299,
   "id": "cd60e01a",
   "metadata": {},
   "outputs": [
    {
     "data": {
      "text/html": [
       "<div>\n",
       "<style scoped>\n",
       "    .dataframe tbody tr th:only-of-type {\n",
       "        vertical-align: middle;\n",
       "    }\n",
       "\n",
       "    .dataframe tbody tr th {\n",
       "        vertical-align: top;\n",
       "    }\n",
       "\n",
       "    .dataframe thead th {\n",
       "        text-align: right;\n",
       "    }\n",
       "</style>\n",
       "<table border=\"1\" class=\"dataframe\">\n",
       "  <thead>\n",
       "    <tr style=\"text-align: right;\">\n",
       "      <th></th>\n",
       "      <th>business_id</th>\n",
       "      <th>categories</th>\n",
       "      <th>name</th>\n",
       "      <th>stars</th>\n",
       "    </tr>\n",
       "  </thead>\n",
       "  <tbody>\n",
       "    <tr>\n",
       "      <th>23133</th>\n",
       "      <td>hcL7e9njsG0AboZpEVF5ww</td>\n",
       "      <td>Restaurants, Pizza</td>\n",
       "      <td>Domenic's Pizzeria</td>\n",
       "      <td>3.5</td>\n",
       "    </tr>\n",
       "  </tbody>\n",
       "</table>\n",
       "</div>"
      ],
      "text/plain": [
       "                  business_id          categories                name  stars\n",
       "23133  hcL7e9njsG0AboZpEVF5ww  Restaurants, Pizza  Domenic's Pizzeria    3.5"
      ]
     },
     "execution_count": 299,
     "metadata": {},
     "output_type": "execute_result"
    }
   ],
   "source": [
    "df_yelp_business_read.loc[df_yelp_business_read['business_id']== business_choose, ['business_id', 'categories', 'name', 'stars']]"
   ]
  },
  {
   "cell_type": "code",
   "execution_count": 300,
   "id": "804118b2",
   "metadata": {},
   "outputs": [
    {
     "data": {
      "text/html": [
       "<div>\n",
       "<style scoped>\n",
       "    .dataframe tbody tr th:only-of-type {\n",
       "        vertical-align: middle;\n",
       "    }\n",
       "\n",
       "    .dataframe tbody tr th {\n",
       "        vertical-align: top;\n",
       "    }\n",
       "\n",
       "    .dataframe thead th {\n",
       "        text-align: right;\n",
       "    }\n",
       "</style>\n",
       "<table border=\"1\" class=\"dataframe\">\n",
       "  <thead>\n",
       "    <tr style=\"text-align: right;\">\n",
       "      <th></th>\n",
       "      <th>business_id</th>\n",
       "      <th>categories</th>\n",
       "      <th>name</th>\n",
       "      <th>stars</th>\n",
       "    </tr>\n",
       "  </thead>\n",
       "  <tbody>\n",
       "    <tr>\n",
       "      <th>830</th>\n",
       "      <td>clOOOBYvd1aUcFxA9uhFjQ</td>\n",
       "      <td>Pizza, Restaurants</td>\n",
       "      <td>Tony Sopranos Pizza</td>\n",
       "      <td>3.0</td>\n",
       "    </tr>\n",
       "    <tr>\n",
       "      <th>15733</th>\n",
       "      <td>7Us4mR7VvyuOmDBIwQj6RQ</td>\n",
       "      <td>Restaurants, Pizza</td>\n",
       "      <td>A B C Pizza House</td>\n",
       "      <td>3.5</td>\n",
       "    </tr>\n",
       "    <tr>\n",
       "      <th>22207</th>\n",
       "      <td>py2kSvhHg5B6Z9ZrLHRjuQ</td>\n",
       "      <td>Pizza, Restaurants</td>\n",
       "      <td>Gino's Ristorante &amp; Pizzeria</td>\n",
       "      <td>4.0</td>\n",
       "    </tr>\n",
       "    <tr>\n",
       "      <th>23928</th>\n",
       "      <td>YV-kXCOEnO3H5Lsj0rH2Hg</td>\n",
       "      <td>Restaurants, Pizza</td>\n",
       "      <td>Franco's Pizza &amp; Steak House</td>\n",
       "      <td>4.5</td>\n",
       "    </tr>\n",
       "    <tr>\n",
       "      <th>24833</th>\n",
       "      <td>QW1-KgjRlJWjr8uh9Y78gw</td>\n",
       "      <td>Pizza, Restaurants</td>\n",
       "      <td>The Original Tony's Pizza</td>\n",
       "      <td>3.5</td>\n",
       "    </tr>\n",
       "    <tr>\n",
       "      <th>26033</th>\n",
       "      <td>KjJDvCg5wuK-wyRy9OYJYQ</td>\n",
       "      <td>Restaurants, Pizza</td>\n",
       "      <td>Bally Pizza</td>\n",
       "      <td>3.0</td>\n",
       "    </tr>\n",
       "    <tr>\n",
       "      <th>32878</th>\n",
       "      <td>I_1GURBE73oKkPHNCvCCiQ</td>\n",
       "      <td>Pizza, Restaurants</td>\n",
       "      <td>Pizza Mania</td>\n",
       "      <td>4.0</td>\n",
       "    </tr>\n",
       "    <tr>\n",
       "      <th>34330</th>\n",
       "      <td>jukJ94bXlgu4KU4x8xANpg</td>\n",
       "      <td>Restaurants, Pizza</td>\n",
       "      <td>Apollo Pizza</td>\n",
       "      <td>2.0</td>\n",
       "    </tr>\n",
       "    <tr>\n",
       "      <th>38424</th>\n",
       "      <td>ZZASTnu-8vFjHkvGgatUSA</td>\n",
       "      <td>Restaurants, Pizza</td>\n",
       "      <td>Sciarrino's Pizzeria</td>\n",
       "      <td>2.0</td>\n",
       "    </tr>\n",
       "    <tr>\n",
       "      <th>38486</th>\n",
       "      <td>9oZc6qwbJfO0SuKXEMh27g</td>\n",
       "      <td>Pizza, Restaurants</td>\n",
       "      <td>Pizza Roma</td>\n",
       "      <td>3.0</td>\n",
       "    </tr>\n",
       "  </tbody>\n",
       "</table>\n",
       "</div>"
      ],
      "text/plain": [
       "                  business_id          categories  \\\n",
       "830    clOOOBYvd1aUcFxA9uhFjQ  Pizza, Restaurants   \n",
       "15733  7Us4mR7VvyuOmDBIwQj6RQ  Restaurants, Pizza   \n",
       "22207  py2kSvhHg5B6Z9ZrLHRjuQ  Pizza, Restaurants   \n",
       "23928  YV-kXCOEnO3H5Lsj0rH2Hg  Restaurants, Pizza   \n",
       "24833  QW1-KgjRlJWjr8uh9Y78gw  Pizza, Restaurants   \n",
       "26033  KjJDvCg5wuK-wyRy9OYJYQ  Restaurants, Pizza   \n",
       "32878  I_1GURBE73oKkPHNCvCCiQ  Pizza, Restaurants   \n",
       "34330  jukJ94bXlgu4KU4x8xANpg  Restaurants, Pizza   \n",
       "38424  ZZASTnu-8vFjHkvGgatUSA  Restaurants, Pizza   \n",
       "38486  9oZc6qwbJfO0SuKXEMh27g  Pizza, Restaurants   \n",
       "\n",
       "                               name  stars  \n",
       "830             Tony Sopranos Pizza    3.0  \n",
       "15733             A B C Pizza House    3.5  \n",
       "22207  Gino's Ristorante & Pizzeria    4.0  \n",
       "23928  Franco's Pizza & Steak House    4.5  \n",
       "24833     The Original Tony's Pizza    3.5  \n",
       "26033                   Bally Pizza    3.0  \n",
       "32878                   Pizza Mania    4.0  \n",
       "34330                  Apollo Pizza    2.0  \n",
       "38424          Sciarrino's Pizzeria    2.0  \n",
       "38486                    Pizza Roma    3.0  "
      ]
     },
     "execution_count": 300,
     "metadata": {},
     "output_type": "execute_result"
    }
   ],
   "source": [
    "df_yelp_business_read.loc[df_yelp_business_read['business_id'].isin(df_yelp_business_read['business_id'].iloc[closest]), ['business_id', 'categories', 'name', 'stars']]"
   ]
  },
  {
   "cell_type": "code",
   "execution_count": 2,
   "id": "dcf40383",
   "metadata": {},
   "outputs": [],
   "source": [
    "# imports \n",
    "import pandas as pd\n",
    "import pickle"
   ]
  },
  {
   "cell_type": "code",
   "execution_count": null,
   "id": "f31901d5",
   "metadata": {},
   "outputs": [],
   "source": [
    "# integration code\n",
    "\n",
    "# loading business review sparse matrix\n",
    "businessxreview_read = sparse.load_npz(\"/Users/viprabha/Music/rec_files/businessxreview.npz\")\n",
    "\n",
    "# loading countvectorized reviews\n",
    "with open('/Users/viprabha/Music/rec_files/vectorizer_reviews.pkl', 'rb') as f:\n",
    "    vectorizer_reviews_read = pickle.load(f)\n",
    "    \n",
    "# loading countvectorized categories\n",
    "with open('/Users/viprabha/Music/rec_files/vectorizer_categories.pkl', 'rb') as f:\n",
    "    vectorizer_categories_read = pickle.load(f)\n",
    "    \n",
    "    \n",
    "# loading transformed reviews and categories\n",
    "with open('/Users/viprabha/Music/rec_files/vectorizer.pkl', 'rb') as f:\n",
    "    vectorized_reviews_read, vectorized_categories_read = pickle.load(f)\n",
    "    \n",
    "# business data\n",
    "df_yelp_business_read = pd.read_pickle(\"/Users/viprabha/Music/rec_files/df_yelp_business.pkl\")\n",
    "\n",
    "# review data \n",
    "df_yelp_review_read = pd.read_pickle(\"/Users/viprabha/Music/rec_files/df_yelp_review.pkl\")\n"
   ]
  }
 ],
 "metadata": {
  "kernelspec": {
   "display_name": "Python 3 (ipykernel)",
   "language": "python",
   "name": "python3"
  },
  "language_info": {
   "codemirror_mode": {
    "name": "ipython",
    "version": 3
   },
   "file_extension": ".py",
   "mimetype": "text/x-python",
   "name": "python",
   "nbconvert_exporter": "python",
   "pygments_lexer": "ipython3",
   "version": "3.8.2"
  }
 },
 "nbformat": 4,
 "nbformat_minor": 5
}
